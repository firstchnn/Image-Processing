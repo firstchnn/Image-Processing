{
 "cells": [
  {
   "cell_type": "code",
   "execution_count": 1,
   "id": "3e3a664c",
   "metadata": {},
   "outputs": [],
   "source": [
    "import cv2\n",
    "import numpy as np\n",
    "from matplotlib import pyplot as plt\n",
    "from skimage import exposure"
   ]
  },
  {
   "cell_type": "code",
   "execution_count": null,
   "id": "618677e4",
   "metadata": {},
   "outputs": [],
   "source": [
    "img1 = cv2.imread(\"./403477.jpg\")\n",
    "a = 1.0\n",
    "b = 0.0\n",
    "\n",
    "\n",
    "gamma_arr_1 = np.linspace(0.1, 3, 100) # จากสว่างไปมืด\n",
    "gamma_arr_2 = np.linspace(3, 0.1, 100) # จากมืดไปสว่าง\n",
    "gamma_arr = np.concatenate((gamma_arr_1, gamma_arr_2))\n",
    "def write(filename, img1, fps):\n",
    "    fourcc = cv2.VideoWriter_fourcc('M','J','P','G')\n",
    "    out = cv2.VideoWriter(filename, fourcc, fps, (1920, 1080))\n",
    "\n",
    "    for gamma in gamma_arr:\n",
    "        img_gamma = ((a*((img1 / 255) ** gamma) + b) * 255).astype(np.uint8)\n",
    "        out.write(img_gamma)\n",
    "\n",
    "    out.release()\n",
    "\n",
    "write(\"test2.avi\", img1, 20)"
   ]
  },
  {
   "cell_type": "code",
   "execution_count": null,
   "id": "81d6f674",
   "metadata": {},
   "outputs": [],
   "source": []
  }
 ],
 "metadata": {
  "kernelspec": {
   "display_name": "Python 3 (ipykernel)",
   "language": "python",
   "name": "python3"
  },
  "language_info": {
   "codemirror_mode": {
    "name": "ipython",
    "version": 3
   },
   "file_extension": ".py",
   "mimetype": "text/x-python",
   "name": "python",
   "nbconvert_exporter": "python",
   "pygments_lexer": "ipython3",
   "version": "3.10.2"
  }
 },
 "nbformat": 4,
 "nbformat_minor": 5
}
