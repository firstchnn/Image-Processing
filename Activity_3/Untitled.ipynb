{
 "cells": [
  {
   "cell_type": "code",
   "execution_count": 3,
   "id": "3e3a664c",
   "metadata": {},
   "outputs": [],
   "source": [
    "import cv2 as cv\n",
    "import numpy as np\n",
    "from matplotlib import pyplot as plt\n",
    "from skimage import exposure"
   ]
  },
  {
   "cell_type": "code",
   "execution_count": 12,
   "id": "618677e4",
   "metadata": {},
   "outputs": [],
   "source": [
    "img1 = cv.imread(\"./403477.jpg\")\n",
    "a = 1.0\n",
    "b = 0.0\n",
    "\n",
    "\n",
    "gamma_arr_1 = np.linspace(0.1, 3, 100)\n",
    "gamma_arr_2 = np.linspace(3, 0.1, 100)\n",
    "gamma_arr = np.concatenate((gamma_arr_1, gamma_arr_2))\n",
    "def write(filename, img1, fps):\n",
    "    fourcc = cv.VideoWriter_fourcc('M','J','P','G')\n",
    "    out = cv.VideoWriter(filename, fourcc, fps, (1920, 1080))\n",
    "\n",
    "    for gamma in gamma_arr:\n",
    "        img_gamma = ((a*((img1 / 255) ** gamma) + b) * 255).astype(np.uint8)\n",
    "        out.write(img_gamma)\n",
    "\n",
    "    out.release()\n",
    "\n",
    "write(\"./test3.avi\", img1, 20)"
   ]
  },
  {
   "cell_type": "code",
   "execution_count": 4,
   "id": "8c137d8f",
   "metadata": {},
   "outputs": [
    {
     "ename": "NameError",
     "evalue": "name 'cumulative_distribution' is not defined",
     "output_type": "error",
     "traceback": [
      "\u001b[1;31m---------------------------------------------------------------------------\u001b[0m",
      "\u001b[1;31mNameError\u001b[0m                                 Traceback (most recent call last)",
      "Input \u001b[1;32mIn [4]\u001b[0m, in \u001b[0;36m<module>\u001b[1;34m\u001b[0m\n\u001b[0;32m     25\u001b[0m img1 \u001b[38;5;241m=\u001b[39m cv\u001b[38;5;241m.\u001b[39mcvtColor(img1, cv\u001b[38;5;241m.\u001b[39mCOLOR_BGR2RGB)\n\u001b[0;32m     26\u001b[0m img2 \u001b[38;5;241m=\u001b[39m cv\u001b[38;5;241m.\u001b[39mcvtColor(img2, cv\u001b[38;5;241m.\u001b[39mCOLOR_BGR2RGB)\n\u001b[1;32m---> 29\u001b[0m cdf_im1_r \u001b[38;5;241m=\u001b[39m \u001b[43mcdf\u001b[49m\u001b[43m(\u001b[49m\u001b[43mimg1\u001b[49m\u001b[43m[\u001b[49m\u001b[43m:\u001b[49m\u001b[43m,\u001b[49m\u001b[43m \u001b[49m\u001b[43m:\u001b[49m\u001b[43m,\u001b[49m\u001b[43m \u001b[49m\u001b[38;5;241;43m0\u001b[39;49m\u001b[43m]\u001b[49m\u001b[43m)\u001b[49m\n\u001b[0;32m     30\u001b[0m cdf_im1_g \u001b[38;5;241m=\u001b[39m cdf(img1[:, :, \u001b[38;5;241m1\u001b[39m])\n\u001b[0;32m     31\u001b[0m cdf_im1_b \u001b[38;5;241m=\u001b[39m cdf(img1[:, :, \u001b[38;5;241m2\u001b[39m])\n",
      "Input \u001b[1;32mIn [4]\u001b[0m, in \u001b[0;36mcdf\u001b[1;34m(im)\u001b[0m\n\u001b[0;32m      1\u001b[0m \u001b[38;5;28;01mdef\u001b[39;00m \u001b[38;5;21mcdf\u001b[39m(im):\n\u001b[1;32m----> 2\u001b[0m     c, b \u001b[38;5;241m=\u001b[39m \u001b[43mcumulative_distribution\u001b[49m(im)\n\u001b[0;32m      3\u001b[0m     \u001b[38;5;28;01mfor\u001b[39;00m i \u001b[38;5;129;01min\u001b[39;00m \u001b[38;5;28mrange\u001b[39m(b[\u001b[38;5;241m0\u001b[39m]):\n\u001b[0;32m      4\u001b[0m         c \u001b[38;5;241m=\u001b[39m np\u001b[38;5;241m.\u001b[39minsert(c, \u001b[38;5;241m0\u001b[39m, \u001b[38;5;241m0\u001b[39m)\n",
      "\u001b[1;31mNameError\u001b[0m: name 'cumulative_distribution' is not defined"
     ]
    }
   ],
   "source": [
    "def cdf(im):\n",
    "    c, b = cumulative_distribution(im)\n",
    "    for i in range(b[0]):\n",
    "        c = np.insert(c, 0, 0)\n",
    "    for i in range(b[-1] + 1, 256):\n",
    "        c = np.append(c, 1)\n",
    "    return c\n",
    "\n",
    "def hist_matching(c, c_t, im):\n",
    "    b = np.interp(c, c_t, np.arange(256))\n",
    "    pix_repl =  {i: b[i] for i in range(256)}\n",
    "    mp = np.arange(0, 256)\n",
    "    for (k, v) in pix_repl.items():\n",
    "        mp[k] = v\n",
    "    s = im.shape\n",
    "    im = np.reshape(mp[im.ravel()], im.shape)\n",
    "    im = np.reshape(im, s)\n",
    "    return im\n",
    "\n",
    "\n",
    "img1 = cv.imread(\"./403477.jpg\")\n",
    "height, width, channels = img1.shape\n",
    "img2 = cv.imread(\"./463601.jpg\")\n",
    "\n",
    "img1 = cv.cvtColor(img1, cv.COLOR_BGR2RGB)\n",
    "img2 = cv.cvtColor(img2, cv.COLOR_BGR2RGB)\n",
    "\n",
    "\n",
    "cdf_im1_r = cdf(img1[:, :, 0])\n",
    "cdf_im1_g = cdf(img1[:, :, 1])\n",
    "cdf_im1_b = cdf(img1[:, :, 2])\n",
    "\n",
    "cdf_im2_r = cdf(img2[:, :, 0])\n",
    "cdf_im2_g = cdf(img2[:, :, 1])\n",
    "cdf_im2_b = cdf(img2[:, :, 2])\n",
    "\n",
    "im_result = np.zeros(shape=(height, width, channels), dtype=np.uint8)\n",
    "\n",
    "im_result[:, :, 0] = hist_matching(cdf_im1_r, cdf_im2_r, img1[:, :, 0])\n",
    "im_result[:, :, 1] = hist_matching(cdf_im1_g, cdf_im2_g, img1[:, :, 1])\n",
    "im_result[:, :, 2] = hist_matching(cdf_im1_b, cdf_im2_b, img1[:, :, 2])\n",
    "\n",
    "\n",
    "fig, ax = plt.subplots(nrows=3, ncols=2, figsize=(15, 15))\n",
    "\n",
    "ax[0, 0].imshow(img1)\n",
    "ax[0, 0].set_title(\"Input Image\")\n",
    "plot_img_histogram(img1, ax[0, 1])\n",
    "ax[0, 1].set_title(\"Hist Original Image\")\n",
    "\n",
    "\n",
    "ax[1, 0].imshow(img2)\n",
    "ax[1, 0].set_title(\"Template Image\")\n",
    "plot_img_histogram(img2, ax[1, 1])\n",
    "\n",
    "ax[2, 0].imshow(im_result)\n",
    "ax[2, 0].set_title(\"Hist Matching Image\")\n",
    "plot_img_histogram(im_result, ax[2, 1])\n",
    "ax[2, 1].set_title(\"Hist Matching Image\")"
   ]
  },
  {
   "cell_type": "code",
   "execution_count": null,
   "id": "d3a7a57d",
   "metadata": {},
   "outputs": [],
   "source": []
  }
 ],
 "metadata": {
  "kernelspec": {
   "display_name": "Python 3 (ipykernel)",
   "language": "python",
   "name": "python3"
  },
  "language_info": {
   "codemirror_mode": {
    "name": "ipython",
    "version": 3
   },
   "file_extension": ".py",
   "mimetype": "text/x-python",
   "name": "python",
   "nbconvert_exporter": "python",
   "pygments_lexer": "ipython3",
   "version": "3.10.2"
  }
 },
 "nbformat": 4,
 "nbformat_minor": 5
}
